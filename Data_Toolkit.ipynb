{
  "nbformat": 4,
  "nbformat_minor": 0,
  "metadata": {
    "colab": {
      "provenance": []
    },
    "kernelspec": {
      "name": "python3",
      "display_name": "Python 3"
    },
    "language_info": {
      "name": "python"
    }
  },
  "cells": [
    {
      "cell_type": "markdown",
      "source": [
        "Q.1- What is NumPy, and why is it widely used in Python?\n",
        "  - NumPy, short for Numerical Python, is a fundamental and widely used open-source library in Python, serving as the cornerstone for numerical computing, especially in scientific and mathematical contexts. It provides efficient support for multi-dimensional arrays (N-dimensional arrays, or ndarrays) and a rich collection of high-level mathematical functions to operate on these arrays.\n",
        "\n",
        "  Here's why NumPy is an essential tool for data scientists, engineers, and researchers:\n",
        "\n",
        "  Performance: NumPy operations, optimized in C and Fortran, are significantly faster than native Python list operations, especially for large datasets. This is due to optimized C code and the use of vectorized operations which work on entire arrays at once, removing the need for slow Python loops.\n",
        "\n",
        "Memory Efficiency: NumPy arrays store elements contiguously in memory as a homogeneous data type, leading to reduced memory usage and faster data access compared to Python lists which can store different data types and have higher overhead.\n",
        "\n",
        "Advanced Functionality: NumPy offers specialized functions for efficient array manipulation (indexing, slicing, reshaping, etc.), statistical analysis, linear algebra, and other mathematical tasks crucial for scientific and data-driven applications.\n",
        "\n",
        "Interoperability: NumPy acts as a foundational library and seamlessly integrates with other widely used Python data science libraries like Pandas, Matplotlib, and scikit-learn, enabling efficient data exchange and analysis workflows.\n",
        "\n",
        "Ease of Use: Despite its power, NumPy's syntax is intuitive and closely aligns with Python's existing syntax for lists and arrays, making it approachable for those familiar with Python."
      ],
      "metadata": {
        "id": "pGL2Y-e5tQWT"
      }
    },
    {
      "cell_type": "markdown",
      "source": [
        "Q.2- How does broadcasting work in NumPy?\n",
        "  - In NumPy, broadcasting is a powerful mechanism that allows operations to be performed on arrays with different shapes without explicit looping or copying of data. It essentially \"stretches\" the smaller array to match the dimensions of the larger one, facilitating element-wise operations.\n",
        "\n",
        "How broadcasting works\n",
        "\n",
        "NumPy broadcasting follows a set of rules to determine compatibility between array shapes:\n",
        "\n",
        "Dimension Padding: If arrays have different numbers of dimensions (ranks), the shape of the lower-ranked array is padded with ones on its left side until both shapes have the same length.\n",
        "\n",
        "Dimension Compatibility: Starting from the rightmost (trailing) dimension and working backward, NumPy compares the dimensions of the two arrays. Dimensions are compatible if they are:\n",
        "\n",
        "Equal in size, or\n",
        "\n",
        "One of them has a size of 1.\n",
        "\n",
        "Broadcasting/Stretching: If the dimensions are compatible but not identical, the array with a dimension of size 1 is \"stretched\" or \"broadcast\" to match the size of the other array along that dimension\n",
        "\n",
        "Why it's useful\n",
        "\n",
        "Code Simplicity: Broadcasting eliminates the need for explicit loops and manual reshaping, leading to more concise and readable code.\n",
        "\n",
        "Efficiency: NumPy performs broadcasting operations in a memory and computationally efficient manner, avoiding unnecessary copying of data.\n",
        "\n",
        "Flexibility: It enables working with arrays of various shapes and dimensions, making complex calculations easier and faster.\n",
        "\n",
        "Vectorization: Broadcasting facilitates vectorized operations, where operations are applied to entire arrays at once, taking advantage of optimized implementations in C and Fortran."
      ],
      "metadata": {
        "id": "kX2xboHktyLh"
      }
    },
    {
      "cell_type": "markdown",
      "source": [
        "Q.3- What is a Pandas DataFrame?\n",
        "  - A Pandas DataFrame is a powerful two-dimensional, labeled data structure in Python, akin to a spreadsheet or SQL table. It's a cornerstone of the Pandas library, designed for efficient data manipulation and analysis in Python.\n",
        "  DataFrames organize data into rows and columns, with labels for easy access and manipulation. Columns can contain different data types, like numbers, text, or dates.\n",
        "\n",
        "DataFrames are widely used for tasks like:\n",
        "\n",
        "Loading and saving data: From various file formats like CSV, Excel, and SQL databases.\n",
        "\n",
        "Data Cleaning and Preprocessing: Handling missing values, filtering, sorting, and transforming data.\n",
        "\n",
        "Data Analysis and Exploration: Calculating descriptive statistics, identifying patterns, and extracting insights.\n",
        "\n",
        "Data Visualization: Creating plots and charts from DataFrames, often integrated with other libraries like Matplotlib.\n",
        "\n",
        "In essence, DataFrames simplify working with structured data, making complex data analysis tasks easier and more efficient."
      ],
      "metadata": {
        "id": "puwRbum6ure9"
      }
    },
    {
      "cell_type": "markdown",
      "source": [
        "Q.4- Explain the use of the groupby() method in Pandas?\n",
        "  - The groupby() method in Pandas allows you to group data within a DataFrame based on the unique values in one or more columns.\n",
        "\n",
        "Essentially, it performs a \"split-apply-combine\" operation:\n",
        "\n",
        "Splits the DataFrame into smaller chunks based on the specified column(s).\n",
        "\n",
        "Applies a function (like sum(), mean(), or a custom function) to each individual group.\n",
        "\n",
        "Combines the results into a new DataFrame or Series.\n",
        "\n",
        "This process simplifies data analysis tasks like calculating statistics for different categories, transforming data based on group averages, or filtering groups that meet specific conditions."
      ],
      "metadata": {
        "id": "_VHwlVPlu_kV"
      }
    },
    {
      "cell_type": "markdown",
      "source": [
        "Q.5- Why is Seaborn preferred for statistical visualizations?\n",
        "  - Seaborn is often preferred for statistical visualizations because it:\n",
        "\n",
        "Simplifies Complex Plots: Seaborn provides a high-level interface to Matplotlib, making it much easier and faster to create sophisticated plots (like heatmaps or violin plots) with less code.\n",
        "\n",
        "Focuses on Statistical Graphics: It's specifically designed for visualizing statistical relationships and distributions, incorporating statistical functions (like regression analysis and confidence intervals) directly into its plotting capabilities.\n",
        "\n",
        "Offers Better Aesthetics: Seaborn comes with attractive default themes and color palettes, resulting in visually appealing and professional-looking plots right out of the box, reducing the need for extensive manual styling, says Techify Solutions.\n",
        "\n",
        "Integrates with Pandas: It works seamlessly with Pandas DataFrames, allowing you to plot directly from your data without extra steps.\n",
        "\n",
        "Essentially, Seaborn provides a convenient and aesthetically pleasing way to explore and present statistical data, especially within the context of data analysis and exploration."
      ],
      "metadata": {
        "id": "F1MjUSJBvSly"
      }
    },
    {
      "cell_type": "markdown",
      "source": [
        "Q.6- What are the differences between NumPy arrays and Python lists?\n",
        "  - NumPy Arrays: Fixed-size, homogeneous (same data type) collections, optimized for faster numerical operations and more efficient memory usage, especially with large datasets. They provide advanced mathematical functions and support multi-dimensional data, according to GeeksforGeeks.\n",
        "  \n",
        "Python Lists: Dynamic-sized, heterogeneous (mixed data types) collections, offering flexibility in data storage and manipulation, though generally slower and less memory-efficient for numerical computations."
      ],
      "metadata": {
        "id": "_lNTZAFBviJr"
      }
    },
    {
      "cell_type": "markdown",
      "source": [
        "Q.7- What is a heatmap, and when should it be used?\n",
        "  - A heatmap is a data visualization technique that represents the magnitude or density of data points using a color gradient. Typically, warmer colors (like red or orange) indicate higher values or activity, while cooler colors (like blue or green) represent lower values.\n",
        "\n",
        "  Heatmaps are especially useful for:\n",
        "\n",
        "Identifying patterns and trends in large and complex datasets, where numerical tables might be difficult to interpret quickly.\n",
        "\n",
        "Analyzing website or mobile app user behavior: Heatmaps can visualize where users click, tap, scroll, or move their mouse, revealing areas of engagement or friction.\n",
        "\n",
        "Comparing data across two dimensions: For example, seeing how sales figures vary across different regions and time periods.\n",
        "\n",
        "Visualizing correlations: A correlation heatmap displays the relationships between pairs of variables in a dataset.\n",
        "\n",
        "Geospatial analysis: Displaying data density or intensity on geographical maps, like population density or crime hotspots.\n",
        "\n",
        "In essence, heatmaps offer a quick and intuitive way to understand complex information by transforming numerical data into visually interpretable patterns and trends"
      ],
      "metadata": {
        "id": "YIkP8KjBv5yq"
      }
    },
    {
      "cell_type": "markdown",
      "source": [
        "Q.8- What does the term “vectorized operation” mean in NumPy?\n",
        "  - Vectorized operation\" in NumPy means applying an operation to an entire array at once, rather than iterating through individual elements using Python loops.\n",
        "\n",
        "Why it matters\n",
        "\n",
        "Speed: Vectorized operations are much faster because NumPy uses highly optimized C and Fortran code behind the scenes.\n",
        "\n",
        "Conciseness: They replace lengthy loops with single-line operations, making code cleaner and more readable.\n",
        "\n",
        "Efficiency: NumPy's internal optimization allows for efficient use of system resources, especially with large datasets."
      ],
      "metadata": {
        "id": "Ih-bcZbewLBx"
      }
    },
    {
      "cell_type": "markdown",
      "source": [
        "Q.9- How does Matplotlib differ from Plotly?\n",
        "  - Matplotlib and Plotly are both Python visualization libraries, but they serve different primary purposes.\n",
        "\n",
        "  Choose Matplotlib for detailed, static plots where fine control is paramount, or if you primarily work in environments where web integration is not a priority. Choose Plotly for interactive plots, web dashboards, or applications where engaging user interaction is a priority."
      ],
      "metadata": {
        "id": "dh0YFol0wgOI"
      }
    },
    {
      "cell_type": "markdown",
      "source": [
        "Q.10- A What is the significance of hierarchical indexing in Pandas?\n",
        "  - The significance of hierarchical indexing (MultiIndex) in Pandas is that it allows you to represent and work with complex, multi-dimensional data efficiently within the familiar 1D Series and 2D DataFrames. It's like having multiple levels of labels on rows or columns, enabling you to:\n",
        "\n",
        "Structure Data: Organize data into a hierarchy, reflecting real-world relationships.\n",
        "\n",
        "Access and Slice Easily: Select subsets of data at various levels, for example, all data for a specific year, then a specific month within that year.\n",
        "\n",
        "Enhance Grouping and Aggregation: Perform advanced grouping operations and calculate statistics across different levels, according to Programiz.\n",
        "\n",
        "Improve Code Readability: Make your code cleaner and more intuitive by encapsulating hierarchical relationships within the index.\n",
        "\n",
        "Handle Higher Dimensional Data: Effectively manage data with more than two dimensions within the two-dimensional DataFrame structure, notes Pythonic Perambulations.\n",
        "\n",
        "In essence, MultiIndex simplifies working with complex data, making analysis more efficient and insightful by providing a structured and organized way to manage multiple levels of information"
      ],
      "metadata": {
        "id": "GeRMtxrzwz2q"
      }
    },
    {
      "cell_type": "markdown",
      "source": [
        "Q.11- What is the role of Seaborn’s pairplot() function?\n",
        "  - A Seaborn pairplot() is a data visualization function that displays the pairwise relationships between variables in a dataset.\n",
        "\n",
        "  Key aspects\n",
        "\n",
        "Grid of Plots: It creates a grid where each variable is represented on the x and y axes of subplots.\n",
        "\n",
        "Scatter Plots: The off-diagonal plots display scatter plots showing the relationship between two variables.\n",
        "\n",
        "Distribution Plots: The diagonal plots show the distribution of each individual variable (typically histograms or Kernel Density Estimates).\n",
        "\n",
        "Exploratory Data Analysis (EDA): It is especially useful for quickly visualizing distributions and relationships between features, aiding in the initial exploration of a dataset.\n",
        "\n",
        "In essence, pairplot() provides a quick and comprehensive overview of the relationships and distributions among multiple variables in your data."
      ],
      "metadata": {
        "id": "HiJ-ZBgUxLsH"
      }
    },
    {
      "cell_type": "markdown",
      "source": [
        "Q.12- What is the purpose of the describe() function in Pandas?\n",
        "  - The describe() function in Pandas provides a quick statistical summary of a DataFrame or Series.\n",
        "\n",
        "  Key functions\n",
        "\n",
        "Numerical Data: Calculates count, mean, standard deviation, min, max, and percentiles (25%, 50% (median), 75%) for numeric columns.\n",
        "\n",
        "Non-Numerical Data: With include='object' or include='all', it provides count, unique values, top (most frequent) value, and its frequency.\n",
        "\n",
        "In essence, describe() helps in quickly understanding data distribution, identifying outliers, and performing initial exploratory data analysis (EDA)"
      ],
      "metadata": {
        "id": "zLSPnQVGxhCo"
      }
    },
    {
      "cell_type": "markdown",
      "source": [
        "Q.13- Why is handling missing data important in Pandas?\n",
        "  - Handling missing data in Pandas is crucial because neglecting it can significantly impact the accuracy and reliability of your analyses and machine learning models.\n",
        "\n",
        "Here's why it's so important:\n",
        "\n",
        "Impact on Analyses: Missing values can skew statistical calculations (like mean, median, standard deviation), leading to inaccurate interpretations and potentially flawed conclusions.\n",
        "\n",
        "Reduced Model Performance: Many machine learning algorithms cannot handle missing data directly and require complete datasets. Improperly handling missing values can lead to reduced model accuracy and biased predictions.\n",
        "\n",
        "Loss of Statistical Power: Removing rows or columns with missing data can reduce the sample size, which in turn reduces the statistical power of your analysis and can make it harder to detect meaningful patterns or relationships.\n",
        "\n",
        "Bias Introduction: If data is missing systematically rather than randomly, simply ignoring or removing it can introduce bias into the dataset. This can lead to skewed results and misleading insights.\n",
        "\n",
        "Difficulty in Analysis: Certain statistical and machine learning techniques require complete data, making it difficult to apply them when faced with missing values"
      ],
      "metadata": {
        "id": "mqjBh-iYyCe0"
      }
    },
    {
      "cell_type": "markdown",
      "source": [
        "Q.14- What are the benefits of using Plotly for data visualization?\n",
        "  - Plotly is a powerful Python library known for creating interactive and visually appealing data visualizations.\n",
        "\n",
        "Interactivity: Creates interactive plots with zoom, pan, hover tooltips, and clickable elements, enhancing data exploration.\n",
        "\n",
        "Web-Ready: Generates web-based plots (HTML, JavaScript, CSS) easily embeddable in web apps or dashboards.\n",
        "\n",
        "Ease of Use: Simplifies plot creation, especially with the high-level plotly.express interface.\n",
        "\n",
        "Customization: Offers extensive customization options for plot appearance and layout.\n",
        "\n",
        "Wide Chart Variety: Supports a broad range of chart types, including line, bar, scatter, 3D plots, and more.\n",
        "\n",
        "Dash Integration: Integrates seamlessly with the Dash framework for building interactive web applications.\n",
        "\n",
        "Easy Sharing: Facilitates sharing of interactive visualizations across platforms.\n",
        "\n",
        "In essence, Plotly excels at creating engaging, interactive, and web-ready data visualizations for a wide range of analytical needs."
      ],
      "metadata": {
        "id": "EEBCK4GvyaYM"
      }
    },
    {
      "cell_type": "markdown",
      "source": [
        "Q.15- How does NumPy handle multidimensional array?\n",
        "  - NumPy efficiently handles multidimensional arrays using its core object, the ndarray.\n",
        "\n",
        "ndarray: A fixed-size container of elements of the same data type, stored in a contiguous block of memory. This homogeneity and compact storage contribute to its speed and memory efficiency compared to Python lists.\n",
        "\n",
        "Structure & Metadata: The multidimensional shape (.shape), number of dimensions (.ndim), and element data type (.dtype) are stored as metadata, making it flexible to reinterpret the data's structure without physically rearranging the elements in memory.\n",
        "\n",
        "Key Operations: NumPy provides specialized functionalities for working with these arrays, including:\n",
        "\n",
        "Indexing and Slicing: Efficiently accessing specific elements or subarrays.\n",
        "\n",
        "Reshaping: Changing the array's shape without modifying the underlying data.\n",
        "\n",
        "Broadcasting: Performing operations on arrays with different shapes by implicitly expanding the smaller array to match the larger one.\n",
        "\n",
        "Vectorized Operations: Applying functions to entire arrays, replacing explicit loops with faster, optimized C-based operations."
      ],
      "metadata": {
        "id": "m-xRH80ky02i"
      }
    },
    {
      "cell_type": "markdown",
      "source": [
        "Q.16- What is the role of Bokeh in data visualization?\n",
        "  - Bokeh's primary role in data visualization is to create interactive, web-ready plots and dashboards directly from Python.\n",
        "\n",
        "Key aspects\n",
        "\n",
        "Interactivity: Enables zooming, panning, hover tools, and data selection, making data exploration dynamic.\n",
        "\n",
        "Web Integration: Renders plots using HTML/JavaScript, perfect for web applications and dashboards.\n",
        "\n",
        "Large Dataset Handling: Optimized for visualizing large or streaming datasets.\n",
        "\n",
        "Customization: Offers flexible styling and layout options.\n",
        "\n",
        "Data Exploration: Facilitates interactive analysis to uncover patterns and trends.\n",
        "\n",
        "In short, Bokeh is ideal for building dynamic, web-based visualizations for interactive data exploration and application development."
      ],
      "metadata": {
        "id": "LEnssWHezTcu"
      }
    },
    {
      "cell_type": "markdown",
      "source": [
        "Q.17- Explain the difference between apply() and map() in Pandas?\n",
        "  - Here's a concise comparison of map() and apply() in Pandas:\n",
        "\n",
        "map():\n",
        "\n",
        "Scope: Operates only on a single Pandas Series (column).\n",
        "\n",
        "Purpose: Element-wise transformation (substituting values based on a mapping or a simple function).\n",
        "\n",
        "Input: Can take a dictionary, Series, or a callable function.\n",
        "\n",
        "Best For: Simple, element-by-element changes within one column (e.g., converting categorical values to numbers).\n",
        "\n",
        "apply():\n",
        "\n",
        "Scope: More versatile; operates on DataFrames (along rows or columns) or Series.\n",
        "\n",
        "Purpose: Applying functions that might involve the interaction of multiple elements (e.g., calculating row sums, or more complex custom functions) [2].\n",
        "\n",
        "Input: Takes only a callable function."
      ],
      "metadata": {
        "id": "tQ_PB_yuzjJY"
      }
    },
    {
      "cell_type": "markdown",
      "source": [
        "Q.18- What are some advanced features of NumPy?\n",
        "  - Advanced features of NumPy\n",
        "\n",
        "NumPy offers several advanced capabilities that enhance its power for numerical and scientific computing:\n",
        "\n",
        "Advanced Indexing:\n",
        "\n",
        "Boolean Indexing: Efficiently selects elements based on logical conditions (e.g., all numbers greater than 50).\n",
        "\n",
        "Fancy Indexing: Selects non-contiguous elements or rearranges them using arrays of indices, allowing for flexible data extraction.\n",
        "\n",
        "Broadcasting: Enables operations between arrays of different shapes by automatically adjusting the smaller array to match the larger one, avoiding explicit loops and improving performance.\n",
        "\n",
        "Universal Functions (Ufuncs): Element-wise operations (like arithmetic or trigonometry) that are highly optimized for speed due to their C implementation, notes Medium.\n",
        "\n",
        "Linear Algebra: Provides a dedicated module (numpy.linalg) for efficient matrix and vector operations (multiplication, determinants, solving equations), crucial for scientific and machine learning applications.\n",
        "\n",
        "Memory Optimization: Uses techniques like memory views (slicing without copying data), memory mapping (np.memmap) for large datasets that don't fit in RAM, and optimized data types to minimize memory consumption.\n",
        "\n",
        "Structured Arrays: Allows creating arrays with mixed data types and named fields (similar to a C struct), useful for representing tabular data or interfacing with C code, according to Scaler Topics.\n",
        "\n",
        "These features enable NumPy to handle complex numerical tasks efficiently, providing both performance and flexibility for data scientists, engineers, and researchers."
      ],
      "metadata": {
        "id": "7AfSVOVOz41m"
      }
    },
    {
      "cell_type": "markdown",
      "source": [
        "Q.19-  How does Pandas simplify time series analysis?\n",
        "  - Pandas simplifies time series analysis through:\n",
        "\n",
        "Dedicated Data Structures: DatetimeIndex and Timestamp make handling and indexing date/time data efficient.\n",
        "\n",
        "Easy Date/Time Handling: Functions like pd.to_datetime() parse various date formats, and the .dt accessor extracts components (year, month, etc.).\n",
        "\n",
        "Time-Based Operations: Methods like resample() change data frequency (e.g., daily to monthly) and rolling() perform calculations over sliding windows (e.g., moving averages).\n",
        "\n",
        "Visualization Integration: Seamlessly works with libraries like Matplotlib for plotting time series data.\n",
        "\n",
        "These features enable streamlined cleaning, manipulation, and analysis of time-based data."
      ],
      "metadata": {
        "id": "OLlSTaZF0fRA"
      }
    },
    {
      "cell_type": "markdown",
      "source": [
        "Q.20- What is the role of a pivot table in Pandas?\n",
        "  - A Pandas pivot table (created using the pivot_table() function) is used to summarize and reorganize data in a DataFrame.\n",
        "\n",
        "Key functions\n",
        "\n",
        "Summarizes and Aggregates: Transforms raw data into an aggregated table, displaying numerical summaries (like sums, averages, counts) based on categorical variables.\n",
        "\n",
        "Reshapes Data: Changes the structure of the data, converting rows into columns or vice versa to create different views and comparisons.\n",
        "\n",
        "Analyzes Relationships: Helps identify patterns and relationships by showing how data is aggregated across different categories.\n",
        "\n",
        "Handles Missing Data: Provides options to manage missing values within the pivoted table.\n",
        "\n",
        "In short, it's like creating an interactive summary report from your data, allowing for quick insights and flexible analysis."
      ],
      "metadata": {
        "id": "aBaZeE-p0zK5"
      }
    },
    {
      "cell_type": "markdown",
      "source": [
        "Q.21- Why is NumPy’s array slicing faster than Python’s list slicing?\n",
        "  - NumPy array slicing is faster than Python list slicing due to:\n",
        "\n",
        "Contiguous Memory: NumPy stores elements in a single, contiguous block of memory, allowing slices to create efficient \"views\" rather than copying data. Python lists store references to potentially scattered elements, requiring more overhead.\n",
        "\n",
        "Homogeneous Data Types: All NumPy array elements are the same type, enabling direct memory access and optimized C code for slicing. Python lists' mixed types add overhead.\n",
        "\n",
        "C Implementation & Vectorization: NumPy leverages highly optimized C routines and vectorized operations for fast slicing, avoiding slow Python loops."
      ],
      "metadata": {
        "id": "OUZWBjoB1Hnc"
      }
    },
    {
      "cell_type": "markdown",
      "source": [
        "Q.22- What are some common use cases for Seaborn?\n",
        "  - Seaborn is a Python library built on Matplotlib, specialized for creating attractive and informative statistical graphics.\n",
        "\n",
        "1. Exploratory Data Analysis (EDA)\n",
        "\n",
        "Visualizing Distributions: Creates histograms, Kernel Density Estimates (KDEs), box plots, violin plots, and swarm plots to understand how data is distributed.\n",
        "\n",
        "Analyzing Relationships: Uses scatter plots, pair plots, joint plots, and regression plots to visualize how variables interact with each other.\n",
        "\n",
        "Identifying Patterns & Outliers: Helps quickly spot trends, clusters, and unusual data points, according to aijobs.net.\n",
        "\n",
        "2. Statistical analysis and modeling\n",
        "\n",
        "Correlation Analysis: Generates heatmaps to visualize the correlations between variables.\n",
        "\n",
        "Regression Analysis: Provides tools like regplot() and lmplot() to visualize linear relationships and regression models.\n",
        "\n",
        "3. Machine learning\n",
        "\n",
        "Feature Importance: Helps visualize which features are most influential in a machine learning model's predictions.\n",
        "\n",
        "Model Diagnostics: Creates plots like residual plots and confusion matrices to assess model performance.\n",
        "\n",
        "4. Publication-quality graphics\n",
        "\n",
        "Seaborn's default styles and color palettes produce aesthetically pleasing plots suitable for presentations and publications.\n",
        "\n",
        "Seaborn is widely used across various industries, including marketing analytics, financial analysis, and scientific research. It simplifies the process of creating sophisticated plots, making it accessible even to those without deep expertise in programming. By leveraging Seaborn, organizations can effectively transform raw data into actionable insights and make informed decisions."
      ],
      "metadata": {
        "id": "lDKb5jvi1V2a"
      }
    },
    {
      "cell_type": "markdown",
      "source": [
        "#Practical Questions#"
      ],
      "metadata": {
        "id": "7GDySPCi12Xr"
      }
    },
    {
      "cell_type": "code",
      "source": [
        "#Q.1- How do you create a 2D NumPy array and calculate the sum of each row?\n",
        "\n",
        "import numpy as np\n",
        "\n",
        "array = np.array([[1, 2, 3],\n",
        "                  [4, 5, 6],\n",
        "                  [7, 8, 9]])\n",
        "\n",
        "\n",
        "row_sums = np.sum(array, axis=1)\n",
        "\n",
        "print(\"2D Array:\\n\", array)\n",
        "print(\"Sum of each row:\", row_sums)"
      ],
      "metadata": {
        "colab": {
          "base_uri": "https://localhost:8080/"
        },
        "id": "s4_B0FVu16nB",
        "outputId": "ab7ed8c4-37a5-42d8-b375-3b3289bb932a"
      },
      "execution_count": 2,
      "outputs": [
        {
          "output_type": "stream",
          "name": "stdout",
          "text": [
            "2D Array:\n",
            " [[1 2 3]\n",
            " [4 5 6]\n",
            " [7 8 9]]\n",
            "Sum of each row: [ 6 15 24]\n"
          ]
        }
      ]
    },
    {
      "cell_type": "code",
      "source": [
        "#Q.2- Write a Pandas script to find the mean of a specific column in a DataFrame.\n",
        "\n",
        "import pandas as pd\n",
        "\n",
        "data = {\n",
        "    'Name': ['Alice', 'Bob', 'Charlie', 'David'],\n",
        "    'Age': [25, 30, 35, 40],\n",
        "    'Score': [85, 90, 88, 92]\n",
        "}\n",
        "\n",
        "df = pd.DataFrame(data)\n",
        "\n",
        "mean_score = df['Score'].mean()\n",
        "\n",
        "print(\"Mean of the 'Score' column:\", mean_score)\n"
      ],
      "metadata": {
        "colab": {
          "base_uri": "https://localhost:8080/"
        },
        "id": "jfRSEoWj2W09",
        "outputId": "3829bb8f-2b61-4497-fd0b-497a53ef9381"
      },
      "execution_count": 3,
      "outputs": [
        {
          "output_type": "stream",
          "name": "stdout",
          "text": [
            "Mean of the 'Score' column: 88.75\n"
          ]
        }
      ]
    },
    {
      "cell_type": "code",
      "source": [
        "#Q.3- Create a scatter plot using Matplotlib.\n",
        "\n",
        "import matplotlib.pyplot as plt\n",
        "\n",
        "x = [1, 2, 3, 4, 5]\n",
        "y = [2, 4, 6, 8, 10]"
      ],
      "metadata": {
        "id": "Qr01dWaD2ipp"
      },
      "execution_count": 4,
      "outputs": []
    },
    {
      "cell_type": "code",
      "source": [
        "#Q.4- How do you calculate the correlation matrix using Seaborn and visualize it with a heatmap?\n",
        "\n",
        "import pandas as pd\n",
        "import seaborn as sns\n",
        "import matplotlib.pyplot as plt\n",
        "\n",
        "# Sample DataFrame\n",
        "data = {\n",
        "    'Math': [90, 80, 70, 60, 50],\n",
        "    'Physics': [85, 75, 65, 55, 45],\n",
        "    'Chemistry': [88, 78, 68, 58, 48]\n",
        "}\n",
        "df = pd.DataFrame(data)\n",
        "\n",
        "# Step 1: Calculate the correlation matrix\n",
        "correlation_matrix = df.corr()\n",
        "\n",
        "# Step 2: Visualize with a heatmap\n",
        "sns.heatmap(correlation_matrix, annot=True, cmap='coolwarm')\n",
        "\n",
        "# Add a title\n",
        "plt.title(\"Correlation Matrix Heatmap\")\n",
        "\n",
        "# Show the plot\n",
        "plt.show()\n"
      ],
      "metadata": {
        "colab": {
          "base_uri": "https://localhost:8080/",
          "height": 452
        },
        "id": "RQxzGNj523Xy",
        "outputId": "5a8ad1d5-0539-4fba-abd6-3a287a10a50e"
      },
      "execution_count": 5,
      "outputs": [
        {
          "output_type": "display_data",
          "data": {
            "text/plain": [
              "<Figure size 640x480 with 2 Axes>"
            ],
            "image/png": "[encoded data removed]"
          },
          "metadata": {}
        }
      ]
    },
    {
      "cell_type": "code",
      "source": [
        "#Q.5- Generate a bar plot using Plotly.\n",
        "\n",
        "import plotly.express as px\n",
        "\n",
        "# Sample data\n",
        "data = {\n",
        "    'Subjects': ['Math', 'Physics', 'Chemistry', 'English'],\n",
        "    'Scores': [88, 92, 85, 90]\n",
        "}\n",
        "\n",
        "# Create a bar plot\n",
        "fig = px.bar(data, x='Subjects', y='Scores', title='Student Scores by Subject')\n",
        "\n",
        "# Show the plot\n",
        "fig.show()\n"
      ],
      "metadata": {
        "colab": {
          "base_uri": "https://localhost:8080/",
          "height": 542
        },
        "id": "iTTY1wjP3DmU",
        "outputId": "59722c92-bd70-4aa7-e642-6d935430650a"
      },
      "execution_count": 6,
      "outputs": [
        {
          "output_type": "display_data",
          "data": {
            "text/html": [
              "<html>\n",
              "<head><meta charset=\"utf-8\" /></head>\n",
              "<body>\n",
              "    <div>            <script src=\"https://cdnjs.cloudflare.com/ajax/libs/mathjax/2.7.5/MathJax.js?config=TeX-AMS-MML_SVG\"></script><script type=\"text/javascript\">if (window.MathJax && window.MathJax.Hub && window.MathJax.Hub.Config) {window.MathJax.Hub.Config({SVG: {font: \"STIX-Web\"}});}</script>                <script type=\"text/javascript\">window.PlotlyConfig = {MathJaxConfig: 'local'};</script>\n",
              "        <script charset=\"utf-8\" src=\"https://cdn.plot.ly/plotly-2.35.2.min.js\"></script>                <div id=\"11ce90b5-6eb4-4d2f-b6f0-82cbc6603cc2\" class=\"plotly-graph-div\" style=\"height:525px; width:100%;\"></div>            <script type=\"text/javascript\">                                    window.PLOTLYENV=window.PLOTLYENV || {};                                    if (document.getElementById(\"11ce90b5-6eb4-4d2f-b6f0-82cbc6603cc2\")) {                    Plotly.newPlot(                        \"11ce90b5-6eb4-4d2f-b6f0-82cbc6603cc2\",                        [{\"alignmentgroup\":\"True\",\"hovertemplate\":\"Subjects=%{x}\\u003cbr\\u003eScores=%{y}\\u003cextra\\u003e\\u003c\\u002fextra\\u003e\",\"legendgroup\":\"\",\"marker\":{\"color\":\"#636efa\",\"pattern\":{\"shape\":\"\"}},\"name\":\"\",\"offsetgroup\":\"\",\"orientation\":\"v\",\"showlegend\":false,\"textposition\":\"auto\",\"x\":[\"Math\",\"Physics\",\"Chemistry\",\"English\"],\"xaxis\":\"x\",\"y\":[88,92,85,90],\"yaxis\":\"y\",\"type\":\"bar\"}],                        {\"template\":{\"data\":{\"histogram2dcontour\":[{\"type\":\"histogram2dcontour\",\"colorbar\":{\"outlinewidth\":0,\"ticks\":\"\"},\"colorscale\":[[0.0,\"#0d0887\"],[0.1111111111111111,\"#46039f\"],[0.2222222222222222,\"#7201a8\"],[0.3333333333333333,\"#9c179e\"],[0.4444444444444444,\"#bd3786\"],[0.5555555555555556,\"#d8576b\"],[0.6666666666666666,\"#ed7953\"],[0.7777777777777778,\"#fb9f3a\"],[0.8888888888888888,\"#fdca26\"],[1.0,\"#f0f921\"]]}],\"choropleth\":[{\"type\":\"choropleth\",\"colorbar\":{\"outlinewidth\":0,\"ticks\":\"\"}}],\"histogram2d\":[{\"type\":\"histogram2d\",\"colorbar\":{\"outlinewidth\":0,\"ticks\":\"\"},\"colorscale\":[[0.0,\"#0d0887\"],[0.1111111111111111,\"#46039f\"],[0.2222222222222222,\"#7201a8\"],[0.3333333333333333,\"#9c179e\"],[0.4444444444444444,\"#bd3786\"],[0.5555555555555556,\"#d8576b\"],[0.6666666666666666,\"#ed7953\"],[0.7777777777777778,\"#fb9f3a\"],[0.8888888888888888,\"#fdca26\"],[1.0,\"#f0f921\"]]}],\"heatmap\":[{\"type\":\"heatmap\",\"colorbar\":{\"outlinewidth\":0,\"ticks\":\"\"},\"colorscale\":[[0.0,\"#0d0887\"],[0.1111111111111111,\"#46039f\"],[0.2222222222222222,\"#7201a8\"],[0.3333333333333333,\"#9c179e\"],[0.4444444444444444,\"#bd3786\"],[0.5555555555555556,\"#d8576b\"],[0.6666666666666666,\"#ed7953\"],[0.7777777777777778,\"#fb9f3a\"],[0.8888888888888888,\"#fdca26\"],[1.0,\"#f0f921\"]]}],\"heatmapgl\":[{\"type\":\"heatmapgl\",\"colorbar\":{\"outlinewidth\":0,\"ticks\":\"\"},\"colorscale\":[[0.0,\"#0d0887\"],[0.1111111111111111,\"#46039f\"],[0.2222222222222222,\"#7201a8\"],[0.3333333333333333,\"#9c179e\"],[0.4444444444444444,\"#bd3786\"],[0.5555555555555556,\"#d8576b\"],[0.6666666666666666,\"#ed7953\"],[0.7777777777777778,\"#fb9f3a\"],[0.8888888888888888,\"#fdca26\"],[1.0,\"#f0f921\"]]}],\"contourcarpet\":[{\"type\":\"contourcarpet\",\"colorbar\":{\"outlinewidth\":0,\"ticks\":\"\"}}],\"contour\":[{\"type\":\"contour\",\"colorbar\":{\"outlinewidth\":0,\"ticks\":\"\"},\"colorscale\":[[0.0,\"#0d0887\"],[0.1111111111111111,\"#46039f\"],[0.2222222222222222,\"#7201a8\"],[0.3333333333333333,\"#9c179e\"],[0.4444444444444444,\"#bd3786\"],[0.5555555555555556,\"#d8576b\"],[0.6666666666666666,\"#ed7953\"],[0.7777777777777778,\"#fb9f3a\"],[0.8888888888888888,\"#fdca26\"],[1.0,\"#f0f921\"]]}],\"surface\":[{\"type\":\"surface\",\"colorbar\":{\"outlinewidth\":0,\"ticks\":\"\"},\"colorscale\":[[0.0,\"#0d0887\"],[0.1111111111111111,\"#46039f\"],[0.2222222222222222,\"#7201a8\"],[0.3333333333333333,\"#9c179e\"],[0.4444444444444444,\"#bd3786\"],[0.5555555555555556,\"#d8576b\"],[0.6666666666666666,\"#ed7953\"],[0.7777777777777778,\"#fb9f3a\"],[0.8888888888888888,\"#fdca26\"],[1.0,\"#f0f921\"]]}],\"mesh3d\":[{\"type\":\"mesh3d\",\"colorbar\":{\"outlinewidth\":0,\"ticks\":\"\"}}],\"scatter\":[{\"fillpattern\":{\"fillmode\":\"overlay\",\"size\":10,\"solidity\":0.2},\"type\":\"scatter\"}],\"parcoords\":[{\"type\":\"parcoords\",\"line\":{\"colorbar\":{\"outlinewidth\":0,\"ticks\":\"\"}}}],\"scatterpolargl\":[{\"type\":\"scatterpolargl\",\"marker\":{\"colorbar\":{\"outlinewidth\":0,\"ticks\":\"\"}}}],\"bar\":[{\"error_x\":{\"color\":\"#2a3f5f\"},\"error_y\":{\"color\":\"#2a3f5f\"},\"marker\":{\"line\":{\"color\":\"#E5ECF6\",\"width\":0.5},\"pattern\":{\"fillmode\":\"overlay\",\"size\":10,\"solidity\":0.2}},\"type\":\"bar\"}],\"scattergeo\":[{\"type\":\"scattergeo\",\"marker\":{\"colorbar\":{\"outlinewidth\":0,\"ticks\":\"\"}}}],\"scatterpolar\":[{\"type\":\"scatterpolar\",\"marker\":{\"colorbar\":{\"outlinewidth\":0,\"ticks\":\"\"}}}],\"histogram\":[{\"marker\":{\"pattern\":{\"fillmode\":\"overlay\",\"size\":10,\"solidity\":0.2}},\"type\":\"histogram\"}],\"scattergl\":[{\"type\":\"scattergl\",\"marker\":{\"colorbar\":{\"outlinewidth\":0,\"ticks\":\"\"}}}],\"scatter3d\":[{\"type\":\"scatter3d\",\"line\":{\"colorbar\":{\"outlinewidth\":0,\"ticks\":\"\"}},\"marker\":{\"colorbar\":{\"outlinewidth\":0,\"ticks\":\"\"}}}],\"scattermapbox\":[{\"type\":\"scattermapbox\",\"marker\":{\"colorbar\":{\"outlinewidth\":0,\"ticks\":\"\"}}}],\"scatterternary\":[{\"type\":\"scatterternary\",\"marker\":{\"colorbar\":{\"outlinewidth\":0,\"ticks\":\"\"}}}],\"scattercarpet\":[{\"type\":\"scattercarpet\",\"marker\":{\"colorbar\":{\"outlinewidth\":0,\"ticks\":\"\"}}}],\"carpet\":[{\"aaxis\":{\"endlinecolor\":\"#2a3f5f\",\"gridcolor\":\"white\",\"linecolor\":\"white\",\"minorgridcolor\":\"white\",\"startlinecolor\":\"#2a3f5f\"},\"baxis\":{\"endlinecolor\":\"#2a3f5f\",\"gridcolor\":\"white\",\"linecolor\":\"white\",\"minorgridcolor\":\"white\",\"startlinecolor\":\"#2a3f5f\"},\"type\":\"carpet\"}],\"table\":[{\"cells\":{\"fill\":{\"color\":\"#EBF0F8\"},\"line\":{\"color\":\"white\"}},\"header\":{\"fill\":{\"color\":\"#C8D4E3\"},\"line\":{\"color\":\"white\"}},\"type\":\"table\"}],\"barpolar\":[{\"marker\":{\"line\":{\"color\":\"#E5ECF6\",\"width\":0.5},\"pattern\":{\"fillmode\":\"overlay\",\"size\":10,\"solidity\":0.2}},\"type\":\"barpolar\"}],\"pie\":[{\"automargin\":true,\"type\":\"pie\"}]},\"layout\":{\"autotypenumbers\":\"strict\",\"colorway\":[\"#636efa\",\"#EF553B\",\"#00cc96\",\"#ab63fa\",\"#FFA15A\",\"#19d3f3\",\"#FF6692\",\"#B6E880\",\"#FF97FF\",\"#FECB52\"],\"font\":{\"color\":\"#2a3f5f\"},\"hovermode\":\"closest\",\"hoverlabel\":{\"align\":\"left\"},\"paper_bgcolor\":\"white\",\"plot_bgcolor\":\"#E5ECF6\",\"polar\":{\"bgcolor\":\"#E5ECF6\",\"angularaxis\":{\"gridcolor\":\"white\",\"linecolor\":\"white\",\"ticks\":\"\"},\"radialaxis\":{\"gridcolor\":\"white\",\"linecolor\":\"white\",\"ticks\":\"\"}},\"ternary\":{\"bgcolor\":\"#E5ECF6\",\"aaxis\":{\"gridcolor\":\"white\",\"linecolor\":\"white\",\"ticks\":\"\"},\"baxis\":{\"gridcolor\":\"white\",\"linecolor\":\"white\",\"ticks\":\"\"},\"caxis\":{\"gridcolor\":\"white\",\"linecolor\":\"white\",\"ticks\":\"\"}},\"coloraxis\":{\"colorbar\":{\"outlinewidth\":0,\"ticks\":\"\"}},\"colorscale\":{\"sequential\":[[0.0,\"#0d0887\"],[0.1111111111111111,\"#46039f\"],[0.2222222222222222,\"#7201a8\"],[0.3333333333333333,\"#9c179e\"],[0.4444444444444444,\"#bd3786\"],[0.5555555555555556,\"#d8576b\"],[0.6666666666666666,\"#ed7953\"],[0.7777777777777778,\"#fb9f3a\"],[0.8888888888888888,\"#fdca26\"],[1.0,\"#f0f921\"]],\"sequentialminus\":[[0.0,\"#0d0887\"],[0.1111111111111111,\"#46039f\"],[0.2222222222222222,\"#7201a8\"],[0.3333333333333333,\"#9c179e\"],[0.4444444444444444,\"#bd3786\"],[0.5555555555555556,\"#d8576b\"],[0.6666666666666666,\"#ed7953\"],[0.7777777777777778,\"#fb9f3a\"],[0.8888888888888888,\"#fdca26\"],[1.0,\"#f0f921\"]],\"diverging\":[[0,\"#8e0152\"],[0.1,\"#c51b7d\"],[0.2,\"#de77ae\"],[0.3,\"#f1b6da\"],[0.4,\"#fde0ef\"],[0.5,\"#f7f7f7\"],[0.6,\"#e6f5d0\"],[0.7,\"#b8e186\"],[0.8,\"#7fbc41\"],[0.9,\"#4d9221\"],[1,\"#276419\"]]},\"xaxis\":{\"gridcolor\":\"white\",\"linecolor\":\"white\",\"ticks\":\"\",\"title\":{\"standoff\":15},\"zerolinecolor\":\"white\",\"automargin\":true,\"zerolinewidth\":2},\"yaxis\":{\"gridcolor\":\"white\",\"linecolor\":\"white\",\"ticks\":\"\",\"title\":{\"standoff\":15},\"zerolinecolor\":\"white\",\"automargin\":true,\"zerolinewidth\":2},\"scene\":{\"xaxis\":{\"backgroundcolor\":\"#E5ECF6\",\"gridcolor\":\"white\",\"linecolor\":\"white\",\"showbackground\":true,\"ticks\":\"\",\"zerolinecolor\":\"white\",\"gridwidth\":2},\"yaxis\":{\"backgroundcolor\":\"#E5ECF6\",\"gridcolor\":\"white\",\"linecolor\":\"white\",\"showbackground\":true,\"ticks\":\"\",\"zerolinecolor\":\"white\",\"gridwidth\":2},\"zaxis\":{\"backgroundcolor\":\"#E5ECF6\",\"gridcolor\":\"white\",\"linecolor\":\"white\",\"showbackground\":true,\"ticks\":\"\",\"zerolinecolor\":\"white\",\"gridwidth\":2}},\"shapedefaults\":{\"line\":{\"color\":\"#2a3f5f\"}},\"annotationdefaults\":{\"arrowcolor\":\"#2a3f5f\",\"arrowhead\":0,\"arrowwidth\":1},\"geo\":{\"bgcolor\":\"white\",\"landcolor\":\"#E5ECF6\",\"subunitcolor\":\"white\",\"showland\":true,\"showlakes\":true,\"lakecolor\":\"white\"},\"title\":{\"x\":0.05},\"mapbox\":{\"style\":\"light\"}}},\"xaxis\":{\"anchor\":\"y\",\"domain\":[0.0,1.0],\"title\":{\"text\":\"Subjects\"}},\"yaxis\":{\"anchor\":\"x\",\"domain\":[0.0,1.0],\"title\":{\"text\":\"Scores\"}},\"legend\":{\"tracegroupgap\":0},\"title\":{\"text\":\"Student Scores by Subject\"},\"barmode\":\"relative\"},                        {\"responsive\": true}                    ).then(function(){\n",
              "                            \n",
              "var gd = document.getElementById('11ce90b5-6eb4-4d2f-b6f0-82cbc6603cc2');\n",
              "var x = new MutationObserver(function (mutations, observer) {{\n",
              "        var display = window.getComputedStyle(gd).display;\n",
              "        if (!display || display === 'none') {{\n",
              "            console.log([gd, 'removed!']);\n",
              "            Plotly.purge(gd);\n",
              "            observer.disconnect();\n",
              "        }}\n",
              "}});\n",
              "\n",
              "// Listen for the removal of the full notebook cells\n",
              "var notebookContainer = gd.closest('#notebook-container');\n",
              "if (notebookContainer) {{\n",
              "    x.observe(notebookContainer, {childList: true});\n",
              "}}\n",
              "\n",
              "// Listen for the clearing of the current output cell\n",
              "var outputEl = gd.closest('.output');\n",
              "if (outputEl) {{\n",
              "    x.observe(outputEl, {childList: true});\n",
              "}}\n",
              "\n",
              "                        })                };                            </script>        </div>\n",
              "</body>\n",
              "</html>"
            ]
          },
          "metadata": {}
        }
      ]
    },
    {
      "cell_type": "code",
      "source": [
        "#Q.6- Create a DataFrame and add a new column based on an existing column.\n",
        "\n",
        "import pandas as pd\n",
        "\n",
        "# Step 1: Create a DataFrame\n",
        "data = {\n",
        "    'Name': ['Alice', 'Bob', 'Charlie', 'David'],\n",
        "    'Score': [85, 42, 77, 90]\n",
        "}\n",
        "df = pd.DataFrame(data)\n",
        "\n",
        "# Step 2: Add a new column based on the 'Score' column\n",
        "# Let's add a 'Result' column: 'Pass' if Score >= 50, else 'Fail'\n",
        "df['Result'] = df['Score'].apply(lambda x: 'Pass' if x >= 50 else 'Fail')\n",
        "\n",
        "# Display the updated DataFrame\n",
        "print(df)\n"
      ],
      "metadata": {
        "colab": {
          "base_uri": "https://localhost:8080/"
        },
        "id": "xjJr_icx3P7l",
        "outputId": "169d2d93-23b5-4e2b-d0c2-1a7287232518"
      },
      "execution_count": 7,
      "outputs": [
        {
          "output_type": "stream",
          "name": "stdout",
          "text": [
            "      Name  Score Result\n",
            "0    Alice     85   Pass\n",
            "1      Bob     42   Fail\n",
            "2  Charlie     77   Pass\n",
            "3    David     90   Pass\n"
          ]
        }
      ]
    },
    {
      "cell_type": "code",
      "source": [
        "#Q.7- Write a program to perform element-wise multiplication of two NumPy arrays.\n",
        "\n",
        "import numpy as np\n",
        "\n",
        "# Step 1: Create two NumPy arrays\n",
        "array1 = np.array([1, 2, 3, 4])\n",
        "array2 = np.array([10, 20, 30, 40])\n",
        "\n",
        "# Step 2: Perform element-wise multiplication\n",
        "result = array1 * array2\n",
        "\n",
        "# Display the result\n",
        "print(\"Array 1:\", array1)\n",
        "print(\"Array 2:\", array2)\n",
        "print(\"Element-wise multiplication:\", result)\n"
      ],
      "metadata": {
        "colab": {
          "base_uri": "https://localhost:8080/"
        },
        "id": "V4xgvHEB3cri",
        "outputId": "206d24c1-3a0d-4100-e411-bcf6373cd3c4"
      },
      "execution_count": 8,
      "outputs": [
        {
          "output_type": "stream",
          "name": "stdout",
          "text": [
            "Array 1: [1 2 3 4]\n",
            "Array 2: [10 20 30 40]\n",
            "Element-wise multiplication: [ 10  40  90 160]\n"
          ]
        }
      ]
    },
    {
      "cell_type": "code",
      "source": [
        "#Q.8- Create a line plot with multiple lines using Matplotlib.\n",
        "\n",
        "import matplotlib.pyplot as plt\n",
        "\n",
        "# Sample data\n",
        "x = [1, 2, 3, 4, 5]\n",
        "y1 = [10, 20, 25, 30, 40]\n",
        "y2 = [5, 15, 20, 25, 35]\n",
        "y3 = [2, 10, 15, 22, 30]\n",
        "\n",
        "# Create the line plot with multiple lines\n",
        "plt.plot(x, y1, label='Line 1')\n",
        "plt.plot(x, y2, label='Line 2')\n",
        "plt.plot(x, y3, label='Line 3')\n",
        "\n",
        "# Add labels, title, and legend\n",
        "plt.xlabel('X Axis')\n",
        "plt.ylabel('Y Axis')\n",
        "plt.title('Multiple Line Plot')\n",
        "plt.legend()\n",
        "\n",
        "# Show the plot\n",
        "plt.show()\n"
      ],
      "metadata": {
        "colab": {
          "base_uri": "https://localhost:8080/",
          "height": 472
        },
        "id": "b5gVcBe03pJr",
        "outputId": "f91783e5-32ef-4836-f7cf-7306f5dfc559"
      },
      "execution_count": 9,
      "outputs": [
        {
          "output_type": "display_data",
          "data": {
            "text/plain": [
              "<Figure size 640x480 with 1 Axes>"
            ],
            "image/png": "[encoded data removed]"
          },
          "metadata": {}
        }
      ]
    },
    {
      "cell_type": "code",
      "source": [
        "#Q.9- Generate a Pandas DataFrame and filter rows where a column value is greater than a threshold.\n",
        "\n",
        "import pandas as pd\n",
        "\n",
        "# Step 1: Create a DataFrame\n",
        "data = {\n",
        "    'Name': ['Alice', 'Bob', 'Charlie', 'David'],\n",
        "    'Age': [25, 17, 34, 19]\n",
        "}\n",
        "df = pd.DataFrame(data)\n",
        "\n",
        "# Step 2: Filter rows where Age > 20\n",
        "filtered_df = df[df['Age'] > 20]\n",
        "\n",
        "# Display the result\n",
        "print(\"Original DataFrame:\\n\", df)\n",
        "print(\"\\nFiltered DataFrame (Age > 20):\\n\", filtered_df)\n"
      ],
      "metadata": {
        "colab": {
          "base_uri": "https://localhost:8080/"
        },
        "id": "PWolYI9u31p6",
        "outputId": "c4f9ad22-fa92-452a-b8a4-dc9810265336"
      },
      "execution_count": 10,
      "outputs": [
        {
          "output_type": "stream",
          "name": "stdout",
          "text": [
            "Original DataFrame:\n",
            "       Name  Age\n",
            "0    Alice   25\n",
            "1      Bob   17\n",
            "2  Charlie   34\n",
            "3    David   19\n",
            "\n",
            "Filtered DataFrame (Age > 20):\n",
            "       Name  Age\n",
            "0    Alice   25\n",
            "2  Charlie   34\n"
          ]
        }
      ]
    },
    {
      "cell_type": "code",
      "source": [
        "#Q.10- Create a histogram using Seaborn to visualize a distribution.\n",
        "\n",
        "import seaborn as sns\n",
        "import matplotlib.pyplot as plt\n",
        "\n",
        "# Sample data\n",
        "data = [23, 25, 26, 30, 22, 29, 35, 36, 28, 30, 31, 27, 32, 33, 34]\n",
        "\n",
        "# Create a histogram\n",
        "sns.histplot(data, bins=8, kde=True, color='skyblue')\n",
        "\n",
        "# Add title and labels\n",
        "plt.title('Age Distribution')\n",
        "plt.xlabel('Age')\n",
        "plt.ylabel('Frequency')\n",
        "\n",
        "# Show plot\n",
        "plt.show()\n"
      ],
      "metadata": {
        "colab": {
          "base_uri": "https://localhost:8080/",
          "height": 472
        },
        "id": "rHsLTrh23_2e",
        "outputId": "a6077b9a-dcfe-4c40-ca68-0312a20c470d"
      },
      "execution_count": 11,
      "outputs": [
        {
          "output_type": "display_data",
          "data": {
            "text/plain": [
              "<Figure size 640x480 with 1 Axes>"
            ],
            "image/png": "[encoded data removed]"
          },
          "metadata": {}
        }
      ]
    },
    {
      "cell_type": "code",
      "source": [
        "#Q.11- Perform matrix multiplication using NumPy.\n",
        "\n",
        "import numpy as np\n",
        "\n",
        "# Define two matrices\n",
        "A = np.array([[1, 2],\n",
        "              [3, 4]])\n",
        "\n",
        "B = np.array([[5, 6],\n",
        "              [7, 8]])\n",
        "\n",
        "# Method 1: Using np.dot()\n",
        "result1 = np.dot(A, B)\n",
        "\n",
        "# Method 2: Using @ operator\n",
        "result2 = A @ B\n",
        "\n",
        "# Method 3: Using np.matmul()\n",
        "result3 = np.matmul(A, B)\n",
        "\n",
        "# Display the result\n",
        "print(\"Matrix A:\\n\", A)\n",
        "print(\"Matrix B:\\n\", B)\n",
        "print(\"\\nResult of A * B:\\n\", result1)\n"
      ],
      "metadata": {
        "colab": {
          "base_uri": "https://localhost:8080/"
        },
        "id": "q9jKgwmc4HbC",
        "outputId": "00478a70-77a2-45cc-ddf3-7648fa0f25ab"
      },
      "execution_count": 12,
      "outputs": [
        {
          "output_type": "stream",
          "name": "stdout",
          "text": [
            "Matrix A:\n",
            " [[1 2]\n",
            " [3 4]]\n",
            "Matrix B:\n",
            " [[5 6]\n",
            " [7 8]]\n",
            "\n",
            "Result of A * B:\n",
            " [[19 22]\n",
            " [43 50]]\n"
          ]
        }
      ]
    },
    {
      "cell_type": "code",
      "source": [
        "#Q.12- Use Pandas to load a CSV file and display its first 5 rows.\n",
        "\n",
        "import pandas as pd\n",
        "import os\n",
        "\n",
        "# Create a dummy CSV file for demonstration\n",
        "dummy_data = {'col1': [1, 2, 3, 4, 5, 6],\n",
        "              'col2': ['A', 'B', 'C', 'D', 'E', 'F']}\n",
        "dummy_df = pd.DataFrame(dummy_data)\n",
        "dummy_file_path = 'dummy_file.csv'\n",
        "dummy_df.to_csv(dummy_file_path, index=False)\n",
        "\n",
        "# Step 1: Load the CSV file\n",
        "# Replace 'dummy_file.csv' with your actual file path\n",
        "df = pd.read_csv(dummy_file_path)\n",
        "\n",
        "# Step 2: Display the first 5 rows\n",
        "print(df.head())\n",
        "\n",
        "# Clean up the dummy file\n",
        "os.remove(dummy_file_path)"
      ],
      "metadata": {
        "colab": {
          "base_uri": "https://localhost:8080/"
        },
        "id": "xSmpQ23E4Sxz",
        "outputId": "9a33e698-88cf-4048-fa6c-203e0a98ca9a"
      },
      "execution_count": 16,
      "outputs": [
        {
          "output_type": "stream",
          "name": "stdout",
          "text": [
            "   col1 col2\n",
            "0     1    A\n",
            "1     2    B\n",
            "2     3    C\n",
            "3     4    D\n",
            "4     5    E\n"
          ]
        }
      ]
    },
    {
      "cell_type": "code",
      "source": [
        "#Q.13- Create a 3D scatter plot using Plotly.\n",
        "\n",
        "import plotly.express as px\n",
        "import pandas as pd\n",
        "\n",
        "# Sample data\n",
        "data = {\n",
        "    'X': [1, 2, 3, 4, 5],\n",
        "    'Y': [10, 15, 13, 18, 16],\n",
        "    'Z': [5, 8, 6, 9, 7],\n",
        "    'Label': ['A', 'B', 'C', 'D', 'E']  # Optional: used for color or hover info\n",
        "}\n",
        "\n",
        "df = pd.DataFrame(data)\n",
        "\n",
        "# Create 3D scatter plot\n",
        "fig = px.scatter_3d(df, x='X', y='Y', z='Z', color='Label', title='3D Scatter Plot')\n",
        "\n",
        "# Show the plot\n",
        "fig.show()\n"
      ],
      "metadata": {
        "colab": {
          "base_uri": "https://localhost:8080/",
          "height": 542
        },
        "id": "0QbbRDyq4rQg",
        "outputId": "3e8b5887-f93e-44e0-d52c-b6f6eeff81ae"
      },
      "execution_count": 17,
      "outputs": [
        {
          "output_type": "display_data",
          "data": {
            "text/html": [
              "<html>\n",
              "<head><meta charset=\"utf-8\" /></head>\n",
              "<body>\n",
              "    <div>            <script src=\"https://cdnjs.cloudflare.com/ajax/libs/mathjax/2.7.5/MathJax.js?config=TeX-AMS-MML_SVG\"></script><script type=\"text/javascript\">if (window.MathJax && window.MathJax.Hub && window.MathJax.Hub.Config) {window.MathJax.Hub.Config({SVG: {font: \"STIX-Web\"}});}</script>                <script type=\"text/javascript\">window.PlotlyConfig = {MathJaxConfig: 'local'};</script>\n",
              "        <script charset=\"utf-8\" src=\"https://cdn.plot.ly/plotly-2.35.2.min.js\"></script>                <div id=\"4afe8cc9-d186-498f-b400-803ab4ab7c61\" class=\"plotly-graph-div\" style=\"height:525px; width:100%;\"></div>            <script type=\"text/javascript\">                                    window.PLOTLYENV=window.PLOTLYENV || {};                                    if (document.getElementById(\"4afe8cc9-d186-498f-b400-803ab4ab7c61\")) {                    Plotly.newPlot(                        \"4afe8cc9-d186-498f-b400-803ab4ab7c61\",                        [{\"hovertemplate\":\"Label=A\\u003cbr\\u003eX=%{x}\\u003cbr\\u003eY=%{y}\\u003cbr\\u003eZ=%{z}\\u003cextra\\u003e\\u003c\\u002fextra\\u003e\",\"legendgroup\":\"A\",\"marker\":{\"color\":\"#636efa\",\"symbol\":\"circle\"},\"mode\":\"markers\",\"name\":\"A\",\"scene\":\"scene\",\"showlegend\":true,\"x\":[1],\"y\":[10],\"z\":[5],\"type\":\"scatter3d\"},{\"hovertemplate\":\"Label=B\\u003cbr\\u003eX=%{x}\\u003cbr\\u003eY=%{y}\\u003cbr\\u003eZ=%{z}\\u003cextra\\u003e\\u003c\\u002fextra\\u003e\",\"legendgroup\":\"B\",\"marker\":{\"color\":\"#EF553B\",\"symbol\":\"circle\"},\"mode\":\"markers\",\"name\":\"B\",\"scene\":\"scene\",\"showlegend\":true,\"x\":[2],\"y\":[15],\"z\":[8],\"type\":\"scatter3d\"},{\"hovertemplate\":\"Label=C\\u003cbr\\u003eX=%{x}\\u003cbr\\u003eY=%{y}\\u003cbr\\u003eZ=%{z}\\u003cextra\\u003e\\u003c\\u002fextra\\u003e\",\"legendgroup\":\"C\",\"marker\":{\"color\":\"#00cc96\",\"symbol\":\"circle\"},\"mode\":\"markers\",\"name\":\"C\",\"scene\":\"scene\",\"showlegend\":true,\"x\":[3],\"y\":[13],\"z\":[6],\"type\":\"scatter3d\"},{\"hovertemplate\":\"Label=D\\u003cbr\\u003eX=%{x}\\u003cbr\\u003eY=%{y}\\u003cbr\\u003eZ=%{z}\\u003cextra\\u003e\\u003c\\u002fextra\\u003e\",\"legendgroup\":\"D\",\"marker\":{\"color\":\"#ab63fa\",\"symbol\":\"circle\"},\"mode\":\"markers\",\"name\":\"D\",\"scene\":\"scene\",\"showlegend\":true,\"x\":[4],\"y\":[18],\"z\":[9],\"type\":\"scatter3d\"},{\"hovertemplate\":\"Label=E\\u003cbr\\u003eX=%{x}\\u003cbr\\u003eY=%{y}\\u003cbr\\u003eZ=%{z}\\u003cextra\\u003e\\u003c\\u002fextra\\u003e\",\"legendgroup\":\"E\",\"marker\":{\"color\":\"#FFA15A\",\"symbol\":\"circle\"},\"mode\":\"markers\",\"name\":\"E\",\"scene\":\"scene\",\"showlegend\":true,\"x\":[5],\"y\":[16],\"z\":[7],\"type\":\"scatter3d\"}],                        {\"template\":{\"data\":{\"histogram2dcontour\":[{\"type\":\"histogram2dcontour\",\"colorbar\":{\"outlinewidth\":0,\"ticks\":\"\"},\"colorscale\":[[0.0,\"#0d0887\"],[0.1111111111111111,\"#46039f\"],[0.2222222222222222,\"#7201a8\"],[0.3333333333333333,\"#9c179e\"],[0.4444444444444444,\"#bd3786\"],[0.5555555555555556,\"#d8576b\"],[0.6666666666666666,\"#ed7953\"],[0.7777777777777778,\"#fb9f3a\"],[0.8888888888888888,\"#fdca26\"],[1.0,\"#f0f921\"]]}],\"choropleth\":[{\"type\":\"choropleth\",\"colorbar\":{\"outlinewidth\":0,\"ticks\":\"\"}}],\"histogram2d\":[{\"type\":\"histogram2d\",\"colorbar\":{\"outlinewidth\":0,\"ticks\":\"\"},\"colorscale\":[[0.0,\"#0d0887\"],[0.1111111111111111,\"#46039f\"],[0.2222222222222222,\"#7201a8\"],[0.3333333333333333,\"#9c179e\"],[0.4444444444444444,\"#bd3786\"],[0.5555555555555556,\"#d8576b\"],[0.6666666666666666,\"#ed7953\"],[0.7777777777777778,\"#fb9f3a\"],[0.8888888888888888,\"#fdca26\"],[1.0,\"#f0f921\"]]}],\"heatmap\":[{\"type\":\"heatmap\",\"colorbar\":{\"outlinewidth\":0,\"ticks\":\"\"},\"colorscale\":[[0.0,\"#0d0887\"],[0.1111111111111111,\"#46039f\"],[0.2222222222222222,\"#7201a8\"],[0.3333333333333333,\"#9c179e\"],[0.4444444444444444,\"#bd3786\"],[0.5555555555555556,\"#d8576b\"],[0.6666666666666666,\"#ed7953\"],[0.7777777777777778,\"#fb9f3a\"],[0.8888888888888888,\"#fdca26\"],[1.0,\"#f0f921\"]]}],\"heatmapgl\":[{\"type\":\"heatmapgl\",\"colorbar\":{\"outlinewidth\":0,\"ticks\":\"\"},\"colorscale\":[[0.0,\"#0d0887\"],[0.1111111111111111,\"#46039f\"],[0.2222222222222222,\"#7201a8\"],[0.3333333333333333,\"#9c179e\"],[0.4444444444444444,\"#bd3786\"],[0.5555555555555556,\"#d8576b\"],[0.6666666666666666,\"#ed7953\"],[0.7777777777777778,\"#fb9f3a\"],[0.8888888888888888,\"#fdca26\"],[1.0,\"#f0f921\"]]}],\"contourcarpet\":[{\"type\":\"contourcarpet\",\"colorbar\":{\"outlinewidth\":0,\"ticks\":\"\"}}],\"contour\":[{\"type\":\"contour\",\"colorbar\":{\"outlinewidth\":0,\"ticks\":\"\"},\"colorscale\":[[0.0,\"#0d0887\"],[0.1111111111111111,\"#46039f\"],[0.2222222222222222,\"#7201a8\"],[0.3333333333333333,\"#9c179e\"],[0.4444444444444444,\"#bd3786\"],[0.5555555555555556,\"#d8576b\"],[0.6666666666666666,\"#ed7953\"],[0.7777777777777778,\"#fb9f3a\"],[0.8888888888888888,\"#fdca26\"],[1.0,\"#f0f921\"]]}],\"surface\":[{\"type\":\"surface\",\"colorbar\":{\"outlinewidth\":0,\"ticks\":\"\"},\"colorscale\":[[0.0,\"#0d0887\"],[0.1111111111111111,\"#46039f\"],[0.2222222222222222,\"#7201a8\"],[0.3333333333333333,\"#9c179e\"],[0.4444444444444444,\"#bd3786\"],[0.5555555555555556,\"#d8576b\"],[0.6666666666666666,\"#ed7953\"],[0.7777777777777778,\"#fb9f3a\"],[0.8888888888888888,\"#fdca26\"],[1.0,\"#f0f921\"]]}],\"mesh3d\":[{\"type\":\"mesh3d\",\"colorbar\":{\"outlinewidth\":0,\"ticks\":\"\"}}],\"scatter\":[{\"fillpattern\":{\"fillmode\":\"overlay\",\"size\":10,\"solidity\":0.2},\"type\":\"scatter\"}],\"parcoords\":[{\"type\":\"parcoords\",\"line\":{\"colorbar\":{\"outlinewidth\":0,\"ticks\":\"\"}}}],\"scatterpolargl\":[{\"type\":\"scatterpolargl\",\"marker\":{\"colorbar\":{\"outlinewidth\":0,\"ticks\":\"\"}}}],\"bar\":[{\"error_x\":{\"color\":\"#2a3f5f\"},\"error_y\":{\"color\":\"#2a3f5f\"},\"marker\":{\"line\":{\"color\":\"#E5ECF6\",\"width\":0.5},\"pattern\":{\"fillmode\":\"overlay\",\"size\":10,\"solidity\":0.2}},\"type\":\"bar\"}],\"scattergeo\":[{\"type\":\"scattergeo\",\"marker\":{\"colorbar\":{\"outlinewidth\":0,\"ticks\":\"\"}}}],\"scatterpolar\":[{\"type\":\"scatterpolar\",\"marker\":{\"colorbar\":{\"outlinewidth\":0,\"ticks\":\"\"}}}],\"histogram\":[{\"marker\":{\"pattern\":{\"fillmode\":\"overlay\",\"size\":10,\"solidity\":0.2}},\"type\":\"histogram\"}],\"scattergl\":[{\"type\":\"scattergl\",\"marker\":{\"colorbar\":{\"outlinewidth\":0,\"ticks\":\"\"}}}],\"scatter3d\":[{\"type\":\"scatter3d\",\"line\":{\"colorbar\":{\"outlinewidth\":0,\"ticks\":\"\"}},\"marker\":{\"colorbar\":{\"outlinewidth\":0,\"ticks\":\"\"}}}],\"scattermapbox\":[{\"type\":\"scattermapbox\",\"marker\":{\"colorbar\":{\"outlinewidth\":0,\"ticks\":\"\"}}}],\"scatterternary\":[{\"type\":\"scatterternary\",\"marker\":{\"colorbar\":{\"outlinewidth\":0,\"ticks\":\"\"}}}],\"scattercarpet\":[{\"type\":\"scattercarpet\",\"marker\":{\"colorbar\":{\"outlinewidth\":0,\"ticks\":\"\"}}}],\"carpet\":[{\"aaxis\":{\"endlinecolor\":\"#2a3f5f\",\"gridcolor\":\"white\",\"linecolor\":\"white\",\"minorgridcolor\":\"white\",\"startlinecolor\":\"#2a3f5f\"},\"baxis\":{\"endlinecolor\":\"#2a3f5f\",\"gridcolor\":\"white\",\"linecolor\":\"white\",\"minorgridcolor\":\"white\",\"startlinecolor\":\"#2a3f5f\"},\"type\":\"carpet\"}],\"table\":[{\"cells\":{\"fill\":{\"color\":\"#EBF0F8\"},\"line\":{\"color\":\"white\"}},\"header\":{\"fill\":{\"color\":\"#C8D4E3\"},\"line\":{\"color\":\"white\"}},\"type\":\"table\"}],\"barpolar\":[{\"marker\":{\"line\":{\"color\":\"#E5ECF6\",\"width\":0.5},\"pattern\":{\"fillmode\":\"overlay\",\"size\":10,\"solidity\":0.2}},\"type\":\"barpolar\"}],\"pie\":[{\"automargin\":true,\"type\":\"pie\"}]},\"layout\":{\"autotypenumbers\":\"strict\",\"colorway\":[\"#636efa\",\"#EF553B\",\"#00cc96\",\"#ab63fa\",\"#FFA15A\",\"#19d3f3\",\"#FF6692\",\"#B6E880\",\"#FF97FF\",\"#FECB52\"],\"font\":{\"color\":\"#2a3f5f\"},\"hovermode\":\"closest\",\"hoverlabel\":{\"align\":\"left\"},\"paper_bgcolor\":\"white\",\"plot_bgcolor\":\"#E5ECF6\",\"polar\":{\"bgcolor\":\"#E5ECF6\",\"angularaxis\":{\"gridcolor\":\"white\",\"linecolor\":\"white\",\"ticks\":\"\"},\"radialaxis\":{\"gridcolor\":\"white\",\"linecolor\":\"white\",\"ticks\":\"\"}},\"ternary\":{\"bgcolor\":\"#E5ECF6\",\"aaxis\":{\"gridcolor\":\"white\",\"linecolor\":\"white\",\"ticks\":\"\"},\"baxis\":{\"gridcolor\":\"white\",\"linecolor\":\"white\",\"ticks\":\"\"},\"caxis\":{\"gridcolor\":\"white\",\"linecolor\":\"white\",\"ticks\":\"\"}},\"coloraxis\":{\"colorbar\":{\"outlinewidth\":0,\"ticks\":\"\"}},\"colorscale\":{\"sequential\":[[0.0,\"#0d0887\"],[0.1111111111111111,\"#46039f\"],[0.2222222222222222,\"#7201a8\"],[0.3333333333333333,\"#9c179e\"],[0.4444444444444444,\"#bd3786\"],[0.5555555555555556,\"#d8576b\"],[0.6666666666666666,\"#ed7953\"],[0.7777777777777778,\"#fb9f3a\"],[0.8888888888888888,\"#fdca26\"],[1.0,\"#f0f921\"]],\"sequentialminus\":[[0.0,\"#0d0887\"],[0.1111111111111111,\"#46039f\"],[0.2222222222222222,\"#7201a8\"],[0.3333333333333333,\"#9c179e\"],[0.4444444444444444,\"#bd3786\"],[0.5555555555555556,\"#d8576b\"],[0.6666666666666666,\"#ed7953\"],[0.7777777777777778,\"#fb9f3a\"],[0.8888888888888888,\"#fdca26\"],[1.0,\"#f0f921\"]],\"diverging\":[[0,\"#8e0152\"],[0.1,\"#c51b7d\"],[0.2,\"#de77ae\"],[0.3,\"#f1b6da\"],[0.4,\"#fde0ef\"],[0.5,\"#f7f7f7\"],[0.6,\"#e6f5d0\"],[0.7,\"#b8e186\"],[0.8,\"#7fbc41\"],[0.9,\"#4d9221\"],[1,\"#276419\"]]},\"xaxis\":{\"gridcolor\":\"white\",\"linecolor\":\"white\",\"ticks\":\"\",\"title\":{\"standoff\":15},\"zerolinecolor\":\"white\",\"automargin\":true,\"zerolinewidth\":2},\"yaxis\":{\"gridcolor\":\"white\",\"linecolor\":\"white\",\"ticks\":\"\",\"title\":{\"standoff\":15},\"zerolinecolor\":\"white\",\"automargin\":true,\"zerolinewidth\":2},\"scene\":{\"xaxis\":{\"backgroundcolor\":\"#E5ECF6\",\"gridcolor\":\"white\",\"linecolor\":\"white\",\"showbackground\":true,\"ticks\":\"\",\"zerolinecolor\":\"white\",\"gridwidth\":2},\"yaxis\":{\"backgroundcolor\":\"#E5ECF6\",\"gridcolor\":\"white\",\"linecolor\":\"white\",\"showbackground\":true,\"ticks\":\"\",\"zerolinecolor\":\"white\",\"gridwidth\":2},\"zaxis\":{\"backgroundcolor\":\"#E5ECF6\",\"gridcolor\":\"white\",\"linecolor\":\"white\",\"showbackground\":true,\"ticks\":\"\",\"zerolinecolor\":\"white\",\"gridwidth\":2}},\"shapedefaults\":{\"line\":{\"color\":\"#2a3f5f\"}},\"annotationdefaults\":{\"arrowcolor\":\"#2a3f5f\",\"arrowhead\":0,\"arrowwidth\":1},\"geo\":{\"bgcolor\":\"white\",\"landcolor\":\"#E5ECF6\",\"subunitcolor\":\"white\",\"showland\":true,\"showlakes\":true,\"lakecolor\":\"white\"},\"title\":{\"x\":0.05},\"mapbox\":{\"style\":\"light\"}}},\"scene\":{\"domain\":{\"x\":[0.0,1.0],\"y\":[0.0,1.0]},\"xaxis\":{\"title\":{\"text\":\"X\"}},\"yaxis\":{\"title\":{\"text\":\"Y\"}},\"zaxis\":{\"title\":{\"text\":\"Z\"}}},\"legend\":{\"title\":{\"text\":\"Label\"},\"tracegroupgap\":0},\"title\":{\"text\":\"3D Scatter Plot\"}},                        {\"responsive\": true}                    ).then(function(){\n",
              "                            \n",
              "var gd = document.getElementById('4afe8cc9-d186-498f-b400-803ab4ab7c61');\n",
              "var x = new MutationObserver(function (mutations, observer) {{\n",
              "        var display = window.getComputedStyle(gd).display;\n",
              "        if (!display || display === 'none') {{\n",
              "            console.log([gd, 'removed!']);\n",
              "            Plotly.purge(gd);\n",
              "            observer.disconnect();\n",
              "        }}\n",
              "}});\n",
              "\n",
              "// Listen for the removal of the full notebook cells\n",
              "var notebookContainer = gd.closest('#notebook-container');\n",
              "if (notebookContainer) {{\n",
              "    x.observe(notebookContainer, {childList: true});\n",
              "}}\n",
              "\n",
              "// Listen for the clearing of the current output cell\n",
              "var outputEl = gd.closest('.output');\n",
              "if (outputEl) {{\n",
              "    x.observe(outputEl, {childList: true});\n",
              "}}\n",
              "\n",
              "                        })                };                            </script>        </div>\n",
              "</body>\n",
              "</html>"
            ]
          },
          "metadata": {}
        }
      ]
    }
  ]
}